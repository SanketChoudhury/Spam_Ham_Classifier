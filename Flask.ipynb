{
 "cells": [
  {
   "cell_type": "markdown",
   "metadata": {
    "id": "RCX600EJLp4U"
   },
   "source": [
    "## Web Service using Flask and Ngrok"
   ]
  },
  {
   "cell_type": "code",
   "execution_count": 1,
   "metadata": {
    "id": "J8O9sW2fLpad"
   },
   "outputs": [
    {
     "name": "stdout",
     "output_type": "stream",
     "text": [
      "Requirement already satisfied: flask-ngrok in c:\\users\\asus\\appdata\\local\\programs\\python\\python38\\lib\\site-packages (0.0.25)\n",
      "Requirement already satisfied: Flask>=0.8 in c:\\users\\asus\\appdata\\local\\programs\\python\\python38\\lib\\site-packages (from flask-ngrok) (2.0.2)\n",
      "Requirement already satisfied: requests in c:\\users\\asus\\appdata\\local\\programs\\python\\python38\\lib\\site-packages (from flask-ngrok) (2.26.0)"
     ]
    },
    {
     "name": "stderr",
     "output_type": "stream",
     "text": [
      "WARNING: You are using pip version 19.2.3, however version 22.0.3 is available.\n",
      "You should consider upgrading via the 'python -m pip install --upgrade pip' command.\n"
     ]
    },
    {
     "name": "stdout",
     "output_type": "stream",
     "text": [
      "\n",
      "Requirement already satisfied: Jinja2>=3.0 in c:\\users\\asus\\appdata\\local\\programs\\python\\python38\\lib\\site-packages (from Flask>=0.8->flask-ngrok) (3.0.3)\n",
      "Requirement already satisfied: click>=7.1.2 in c:\\users\\asus\\appdata\\local\\programs\\python\\python38\\lib\\site-packages (from Flask>=0.8->flask-ngrok) (7.1.2)\n",
      "Requirement already satisfied: itsdangerous>=2.0 in c:\\users\\asus\\appdata\\local\\programs\\python\\python38\\lib\\site-packages (from Flask>=0.8->flask-ngrok) (2.0.1)\n",
      "Requirement already satisfied: Werkzeug>=2.0 in c:\\users\\asus\\appdata\\local\\programs\\python\\python38\\lib\\site-packages (from Flask>=0.8->flask-ngrok) (2.0.2)\n",
      "Requirement already satisfied: urllib3<1.27,>=1.21.1 in c:\\users\\asus\\appdata\\local\\programs\\python\\python38\\lib\\site-packages (from requests->flask-ngrok) (1.26.7)\n",
      "Requirement already satisfied: idna<4,>=2.5; python_version >= \"3\" in c:\\users\\asus\\appdata\\local\\programs\\python\\python38\\lib\\site-packages (from requests->flask-ngrok) (3.3)\n",
      "Requirement already satisfied: certifi>=2017.4.17 in c:\\users\\asus\\appdata\\local\\programs\\python\\python38\\lib\\site-packages (from requests->flask-ngrok) (2021.10.8)\n",
      "Requirement already satisfied: charset-normalizer~=2.0.0; python_version >= \"3\" in c:\\users\\asus\\appdata\\local\\programs\\python\\python38\\lib\\site-packages (from requests->flask-ngrok) (2.0.7)\n",
      "Requirement already satisfied: MarkupSafe>=2.0 in c:\\users\\asus\\appdata\\local\\programs\\python\\python38\\lib\\site-packages (from Jinja2>=3.0->Flask>=0.8->flask-ngrok) (2.0.1)\n",
      "Requirement already satisfied: flasgger in c:\\users\\asus\\appdata\\local\\programs\\python\\python38\\lib\\site-packages (0.9.5)\n",
      "Requirement already satisfied: six>=1.10.0 in c:\\users\\asus\\appdata\\roaming\\python\\python38\\site-packages (from flasgger) (1.15.0)\n",
      "Requirement already satisfied: Flask>=0.10 in c:\\users\\asus\\appdata\\local\\programs\\python\\python38\\lib\\site-packages (from flasgger) (2.0.2)\n",
      "Requirement already satisfied: jsonschema>=3.0.1 in c:\\users\\asus\\appdata\\local\\programs\\python\\python38\\lib\\site-packages (from flasgger) (4.2.1)\n",
      "Requirement already satisfied: mistune in c:\\users\\asus\\appdata\\local\\programs\\python\\python38\\lib\\site-packages (from flasgger) (0.8.4)\n",
      "Requirement already satisfied: PyYAML>=3.0 in c:\\users\\asus\\appdata\\local\\programs\\python\\python38\\lib\\site-packages (from flasgger) (6.0)\n",
      "Requirement already satisfied: Jinja2>=3.0 in c:\\users\\asus\\appdata\\local\\programs\\python\\python38\\lib\\site-packages (from Flask>=0.10->flasgger) (3.0.3)\n",
      "Requirement already satisfied: click>=7.1.2 in c:\\users\\asus\\appdata\\local\\programs\\python\\python38\\lib\\site-packages (from Flask>=0.10->flasgger) (7.1.2)\n",
      "Requirement already satisfied: Werkzeug>=2.0 in c:\\users\\asus\\appdata\\local\\programs\\python\\python38\\lib\\site-packages (from Flask>=0.10->flasgger) (2.0.2)\n",
      "Requirement already satisfied: itsdangerous>=2.0 in c:\\users\\asus\\appdata\\local\\programs\\python\\python38\\lib\\site-packages (from Flask>=0.10->flasgger) (2.0.1)\n",
      "Requirement already satisfied: attrs>=17.4.0 in c:\\users\\asus\\appdata\\local\\programs\\python\\python38\\lib\\site-packages (from jsonschema>=3.0.1->flasgger) (21.2.0)\n",
      "Requirement already satisfied: pyrsistent!=0.17.0,!=0.17.1,!=0.17.2,>=0.14.0 in c:\\users\\asus\\appdata\\local\\programs\\python\\python38\\lib\\site-packages (from jsonschema>=3.0.1->flasgger) (0.18.0)\n",
      "Requirement already satisfied: importlib-resources>=1.4.0; python_version < \"3.9\" in c:\\users\\asus\\appdata\\local\\programs\\python\\python38\\lib\\site-packages (from jsonschema>=3.0.1->flasgger) (5.4.0)\n",
      "Requirement already satisfied: MarkupSafe>=2.0 in c:\\users\\asus\\appdata\\local\\programs\\python\\python38\\lib\\site-packages (from Jinja2>=3.0->Flask>=0.10->flasgger) (2.0.1)\n",
      "Requirement already satisfied: zipp>=3.1.0; python_version < \"3.10\" in c:\\users\\asus\\appdata\\local\\programs\\python\\python38\\lib\\site-packages (from importlib-resources>=1.4.0; python_version < \"3.9\"->jsonschema>=3.0.1->flasgger) (3.6.0)\n"
     ]
    },
    {
     "name": "stderr",
     "output_type": "stream",
     "text": [
      "WARNING: You are using pip version 19.2.3, however version 22.0.3 is available.\n",
      "You should consider upgrading via the 'python -m pip install --upgrade pip' command.\n"
     ]
    }
   ],
   "source": [
    "!pip install flask-ngrok\n",
    "!pip install flasgger"
   ]
  },
  {
   "cell_type": "code",
   "execution_count": 2,
   "metadata": {
    "id": "Hw48AoQTL6w8"
   },
   "outputs": [],
   "source": [
    "from flask import Flask, request\n",
    "import numpy as np\n",
    "import pickle\n",
    "import pandas as pd\n",
    "import flasgger\n",
    "from flasgger import Swagger\n",
    "from flask_ngrok import run_with_ngrok"
   ]
  },
  {
   "cell_type": "code",
   "execution_count": 4,
   "metadata": {
    "id": "6o1leM9RL_Mb"
   },
   "outputs": [
    {
     "ename": "AttributeError",
     "evalue": "Can't get attribute 'classifier' on <module '__main__'>",
     "output_type": "error",
     "traceback": [
      "\u001b[1;31m---------------------------------------------------------------------------\u001b[0m",
      "\u001b[1;31mAttributeError\u001b[0m                            Traceback (most recent call last)",
      "\u001b[1;32m~\\AppData\\Local\\Temp/ipykernel_22652/2538921818.py\u001b[0m in \u001b[0;36m<module>\u001b[1;34m\u001b[0m\n\u001b[0;32m      4\u001b[0m \u001b[1;33m\u001b[0m\u001b[0m\n\u001b[0;32m      5\u001b[0m \u001b[0mpickle_in\u001b[0m \u001b[1;33m=\u001b[0m \u001b[0mopen\u001b[0m\u001b[1;33m(\u001b[0m\u001b[1;34m\"classifier.pkl\"\u001b[0m\u001b[1;33m,\u001b[0m\u001b[1;34m\"rb\"\u001b[0m\u001b[1;33m)\u001b[0m\u001b[1;33m\u001b[0m\u001b[1;33m\u001b[0m\u001b[0m\n\u001b[1;32m----> 6\u001b[1;33m \u001b[0mclassifier\u001b[0m\u001b[1;33m=\u001b[0m\u001b[0mpickle\u001b[0m\u001b[1;33m.\u001b[0m\u001b[0mload\u001b[0m\u001b[1;33m(\u001b[0m\u001b[0mpickle_in\u001b[0m\u001b[1;33m)\u001b[0m\u001b[1;33m\u001b[0m\u001b[1;33m\u001b[0m\u001b[0m\n\u001b[0m\u001b[0;32m      7\u001b[0m \u001b[0mpickle_in\u001b[0m\u001b[1;33m.\u001b[0m\u001b[0mclose\u001b[0m\u001b[1;33m(\u001b[0m\u001b[1;33m)\u001b[0m\u001b[1;33m\u001b[0m\u001b[1;33m\u001b[0m\u001b[0m\n\u001b[0;32m      8\u001b[0m \u001b[1;33m\u001b[0m\u001b[0m\n",
      "\u001b[1;31mAttributeError\u001b[0m: Can't get attribute 'classifier' on <module '__main__'>"
     ]
    }
   ],
   "source": [
    "app = Flask(__name__)\n",
    "run_with_ngrok(app) \n",
    "Swagger(app)\n",
    "\n",
    "pickle_in = open(\"classifier.pkl\",\"rb\")\n",
    "classifier=pickle.load(pickle_in)\n",
    "pickle_in.close()\n",
    "\n",
    "@app.route('/')\n",
    "def welcome():\n",
    "    return \"Welcome All\"\n",
    "\n",
    "@app.route('/predict',methods=[\"Get\"])\n",
    "def predict_spam_ham():\n",
    "    \"\"\"Let's predict Ham/Spam texts \n",
    "    ---\n",
    "    parameters:  \n",
    "      - name: text\n",
    "        in: query\n",
    "        type: string\n",
    "        required: true\n",
    "    responses:\n",
    "        200:\n",
    "            description: The output values      \n",
    "    \"\"\"\n",
    "    text = request.args.get(\"text\")\n",
    "    print(text)\n",
    "    prediction = classifier(str(text))\n",
    "    print(prediction)\n",
    "    return \"The type of the text is : \" + str(prediction)"
   ]
  },
  {
   "cell_type": "code",
   "execution_count": null,
   "metadata": {
    "colab": {
     "base_uri": "https://localhost:8080/"
    },
    "id": "0FCrBdg6MEmy",
    "outputId": "e0585eb7-c648-406e-dc5a-f2fe358937c6"
   },
   "outputs": [],
   "source": [
    "#add \"/apidocs\" at the end of the url to use flasgger\n",
    "app.run()"
   ]
  },
  {
   "cell_type": "code",
   "execution_count": null,
   "metadata": {
    "id": "g1lMWpooOcdP"
   },
   "outputs": [],
   "source": []
  }
 ],
 "metadata": {
  "colab": {
   "collapsed_sections": [
    "uXMMkOLCwT6g"
   ],
   "name": "Flask.ipynb",
   "provenance": []
  },
  "kernelspec": {
   "display_name": "Python 3 (ipykernel)",
   "language": "python",
   "name": "python3"
  },
  "language_info": {
   "codemirror_mode": {
    "name": "ipython",
    "version": 3
   },
   "file_extension": ".py",
   "mimetype": "text/x-python",
   "name": "python",
   "nbconvert_exporter": "python",
   "pygments_lexer": "ipython3",
   "version": "3.8.0"
  }
 },
 "nbformat": 4,
 "nbformat_minor": 1
}
